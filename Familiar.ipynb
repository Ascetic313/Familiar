{
 "cells": [
  {
   "cell_type": "code",
   "execution_count": null,
   "id": "d030bce8",
   "metadata": {},
   "outputs": [],
   "source": [
    "# Import libraries\n",
    "import pandas as pd\n",
    "import numpy as np\n",
    "from scipy.stats import ttest_1samp\n",
    "# Load datasets\n",
    "lifespans = pd.read_csv('familiar_lifespan.csv')\n",
    "iron = pd.read_csv('familiar_iron.csv')\n",
    "\n",
    "# Inspecting the Dataset:\n",
    "print(lifespans.head())\n",
    "vein_pack_lifespans = lifespans.lifespan[lifespans.pack == 'vein']\n",
    "\n",
    "# Average Lifespan for Vein pack:\n",
    "print(np.mean(vein_pack_lifespans))\n",
    "print(\"The Average lifespan for vein pack is longer than 73 years\")\n",
    "\n",
    "# One Sample T-test:\n",
    "print(\"Null: The Average Lifespan of a vein pack subscriber is 73 years.\")\n",
    "print(\"Alternative: The average lifespan of a vein pack subscriber is NOT 73 years.\")\n",
    "\n",
    "tstat, pval = ttest_1samp(vein_pack_lifespans, 73)\n",
    "print(pval)\n",
    "print( \" Since the Pvalue is less than 0.05, we therefore reject the null hypothesis and conclude with 95% confidence level that the average lifespan of a vein pack subscriber is NOT 73 years.\")\n",
    "\n",
    "#  the Artery Pack Lifespan:\n",
    "artery_pack_lifespans = lifespans.lifespan[lifespans.pack=='artery']\n",
    "\n",
    "# Calculating artery pack life spans\n",
    "print(np.mean(artery_pack_lifespans))\n",
    "print(\"Yes, it is longer than the vein pack\")\n",
    "print(\"Null: The average lifespan of a vein pack subscriber is equal to the average lifespan of an Artery pack subscriber.\")\n",
    "print(\"Alternative: The average lifespan of a vein pack subscriber is NOT equal to the average lifespan of an Artery pack subscriber\")\n",
    "\n",
    "# Independent sample T-test:\n",
    "from scipy.stats import ttest_ind\n",
    "tstat, pval = ttest_ind(vein_pack_lifespans, artery_pack_lifespans)\n",
    "print(pval)\n",
    "print(\"Since the pvalue is greater than 5%, then we fail to reject the null hypothesis and conclude that the average lifespan of a vein pack is equal to that of an Artery pack\")\n",
    "\n",
    "# Inspecting the first 5 rows of iron dataset\n",
    "print(iron.head())\n",
    "\n",
    "# Creating a contingency table\n",
    "Xtab = pd.crosstab(iron.pack, iron.iron)\n",
    "print(Xtab)\n",
    "\n",
    "# Runing Chi-Square test\n",
    "from scipy.stats import chi2_contingency\n",
    "chi2, pval, dof, exp = chi2_contingency(Xtab)\n",
    "print(pval)\n",
    "print(\"Since the pvalue is less than 5% we reject the null hypothesis and conclude that There is an Association between between vein and artery pack\")"
   ]
  },
  {
   "cell_type": "code",
   "execution_count": null,
   "id": "e42b8cf0",
   "metadata": {},
   "outputs": [],
   "source": []
  },
  {
   "cell_type": "code",
   "execution_count": null,
   "id": "16c32332",
   "metadata": {},
   "outputs": [],
   "source": []
  }
 ],
 "metadata": {
  "kernelspec": {
   "display_name": "Python 3",
   "language": "python",
   "name": "python3"
  },
  "language_info": {
   "codemirror_mode": {
    "name": "ipython",
    "version": 3
   },
   "file_extension": ".py",
   "mimetype": "text/x-python",
   "name": "python",
   "nbconvert_exporter": "python",
   "pygments_lexer": "ipython3",
   "version": "3.8.8"
  }
 },
 "nbformat": 4,
 "nbformat_minor": 5
}
